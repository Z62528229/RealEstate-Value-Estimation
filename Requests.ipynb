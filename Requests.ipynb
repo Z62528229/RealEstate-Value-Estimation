
{
 "cells": [
  {
   "cell_type": "markdown",
   "metadata": {},
   "source": [
    "# Requests\n",
    "\n",
    "In this notebook, I'll make call to all the endpoints I defined in the `House Price Prediction` notebook."
   ]
  },
  {
   "cell_type": "code",
   "execution_count": 1,
   "metadata": {},
   "outputs": [],