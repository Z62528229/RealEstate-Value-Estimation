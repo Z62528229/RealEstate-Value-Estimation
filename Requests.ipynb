
{
 "cells": [
  {
   "cell_type": "markdown",
   "metadata": {},
   "source": [
    "# Requests\n",
    "\n",
    "In this notebook, I'll make call to all the endpoints I defined in the `House Price Prediction` notebook."
   ]
  },
  {
   "cell_type": "code",
   "execution_count": 1,
   "metadata": {},
   "outputs": [],
   "source": [
    "import requests\n",
    "URL = 'http://0.0.0.0:9090'"
   ]
  },
  {
   "cell_type": "markdown",
   "metadata": {},
   "source": [
    "## Get Housing Stats"
   ]
  },
  {
   "cell_type": "code",
   "execution_count": 5,
   "metadata": {},
   "outputs": [
    {
     "name": "stdout",
     "output_type": "stream",
     "text": [
      "total_houses: 20640\n",
      "max_value: 500000.99999999994\n",
      "min_value: 14999.000000000002\n",
      "most_imp_feature: Median Income\n"
     ]
    }
   ],
   "source": [
    "stats = requests.get(URL + '/housing_stats')\n",
    "result = json.loads(stats.content.decode('UTF-8'))\n",
    "for key, value in result.items():\n",
    "    print(\"{}: {}\".format(key, value))"
   ]
  },
  {
   "cell_type": "markdown",
   "metadata": {},
   "source": [
    "## Get Price of House\n",
    "\n",
    "Here, we will define a set of values for various variables. Then, we will make a request to our notebook, which will use the trained model to predict an approximate price for our model."
   ]
  },
  {
   "cell_type": "code",