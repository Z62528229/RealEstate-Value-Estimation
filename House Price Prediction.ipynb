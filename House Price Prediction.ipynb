
{
 "cells": [
  {
   "cell_type": "markdown",
   "metadata": {},
   "source": [
    "# House Price Prediction\n",
    "\n",
    "In this project, I'll use the California House dataset available in `sklearn` and use `Jupyter Kernel Gateway` to expose its cells as Endpoints."
   ]
  },
  {
   "cell_type": "markdown",